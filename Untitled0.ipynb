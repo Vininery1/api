{
  "nbformat": 4,
  "nbformat_minor": 0,
  "metadata": {
    "colab": {
      "provenance": []
    },
    "kernelspec": {
      "name": "python3",
      "display_name": "Python 3"
    },
    "language_info": {
      "name": "python"
    }
  },
  "cells": [
    {
      "cell_type": "code",
      "execution_count": 6,
      "metadata": {
        "colab": {
          "base_uri": "https://localhost:8080/"
        },
        "id": "tLFPxo2Z1icT",
        "outputId": "bcd6a6e8-980f-4ab6-b9fd-6dcf1abe0efa"
      },
      "outputs": [
        {
          "metadata": {
            "tags": null
          },
          "name": "stdout",
          "output_type": "stream",
          "text": [
            " * Serving Flask app '__main__'\n",
            " * Debug mode: on\n"
          ]
        },
        {
          "metadata": {
            "tags": null
          },
          "name": "stderr",
          "output_type": "stream",
          "text": [
            "INFO:werkzeug:\u001b[31m\u001b[1mWARNING: This is a development server. Do not use it in a production deployment. Use a production WSGI server instead.\u001b[0m\n",
            " * Running on http://127.0.0.1:5000\n",
            "INFO:werkzeug:\u001b[33mPress CTRL+C to quit\u001b[0m\n",
            "INFO:werkzeug: * Restarting with stat\n"
          ]
        }
      ],
      "source": [
        "from flask import Flask, jsonify, request\n",
        "\n",
        "app = Flask(__name__)\n",
        "\n",
        "\n",
        "items = [\n",
        "    {\"id\": 1, \"name\": \"Notebook\", \"description\": \"Notebook Dell Inspiron 14\", \"price\": 3500.00},\n",
        "    {\"id\": 2, \"name\": \"Smartphone\", \"description\": \"iPhone 12 64GB\", \"price\": 4500.00},\n",
        "    {\"id\": 3, \"name\": \"Headset\", \"description\": \"Headset Logitech G432\", \"price\": 350.00}\n",
        "]\n",
        "\n",
        "\n",
        "@app.route('/items', methods=['GET'])\n",
        "def get_items():\n",
        "    return jsonify(items), 200\n",
        "\n",
        "\n",
        "@app.route('/items/<int:item_id>', methods=['GET'])\n",
        "def get_item(item_id):\n",
        "    item = next((item for item in items if item['id'] == item_id), None)\n",
        "    if item:\n",
        "        return jsonify(item), 200\n",
        "    else:\n",
        "        return jsonify({\"message\": \"Item not found\"}), 404\n",
        "\n",
        "\n",
        "@app.route('/items', methods=['POST'])\n",
        "def create_item():\n",
        "    new_item = request.json\n",
        "    if not all(key in new_item for key in (\"name\", \"description\", \"price\")):\n",
        "        return jsonify({\"message\": \"Missing data\"}), 400\n",
        "\n",
        "    new_item['id'] = max(item['id'] for item in items) + 1 if items else 1\n",
        "    items.append(new_item)\n",
        "    return jsonify(new_item), 201\n",
        "\n",
        "\n",
        "@app.route('/items/<int:item_id>', methods=['PUT'])\n",
        "def update_item(item_id):\n",
        "    item = next((item for item in items if item['id'] == item_id), None)\n",
        "    if not item:\n",
        "        return jsonify({\"message\": \"Item not found\"}), 404\n",
        "\n",
        "    data = request.json\n",
        "    if not data:\n",
        "        return jsonify({\"message\": \"No data provided\"}), 400\n",
        "\n",
        "    item.update({\n",
        "        \"name\": data.get(\"name\", item[\"name\"]),\n",
        "        \"description\": data.get(\"description\", item[\"description\"]),\n",
        "        \"price\": data.get(\"price\", item[\"price\"])\n",
        "    })\n",
        "\n",
        "    return jsonify(item), 200\n",
        "\n",
        "@app.route('/items/<int:item_id>', methods=['DELETE'])\n",
        "def delete_item(item_id):\n",
        "    global items\n",
        "    item = next((item for item in items if item['id'] == item_id), None)\n",
        "    if not item:\n",
        "        return jsonify({\"message\": \"Item not found\"}), 404\n",
        "\n",
        "    items = [item for item in items if item['id'] != item_id]\n",
        "    return jsonify({\"message\": \"Item deleted\"}), 200\n",
        "\n",
        "if __name__ == '__main__':\n",
        "    app.run(debug=True)\n",
        "\n",
        "\n",
        "\n"
      ]
    },
    {
      "cell_type": "code",
      "source": [
        "* Running on http://127.0.0.1:5000\n"
      ],
      "metadata": {
        "id": "mRFu6x619ltV"
      },
      "execution_count": null,
      "outputs": []
    }
  ]
}